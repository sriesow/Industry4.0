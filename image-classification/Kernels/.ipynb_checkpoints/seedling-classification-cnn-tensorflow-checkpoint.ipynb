{
 "cells": [
  {
   "cell_type": "code",
   "execution_count": 1,
   "metadata": {
    "_cell_guid": "98e315a1-ed2a-4c5b-a64a-926bbe720c57",
    "_uuid": "4615543cb3b499e044c100725f41373b8d1ac2dd",
    "collapsed": true
   },
   "outputs": [],
   "source": [
    "import numpy as np #supporting multi-dimensional arrays and matrices\n",
    "import os #read or write a file\n",
    "import cv2  \n",
    "import pandas as pd #data manipulation and analysis\n",
    "from tqdm import tqdm # for  well-established ProgressBar\n",
    "from random import shuffle #only shuffles the array along the first axis of a multi-dimensional array. The order of sub-arrays is changed but their contents remains the same.\n",
    "LR = 1e-3\n",
    "MODEL_NAME = 'plantclassfication-{}-{}.model'.format(LR, '2conv-basic') # just so we remember which save"
   ]
  },
  {
   "cell_type": "code",
   "execution_count": 2,
   "metadata": {
    "_cell_guid": "354cd553-6ed3-4b0d-ab9a-735be98cc539",
    "_uuid": "ec22dd9eaab76f2c7f78377e02ba3cc31defc7e5",
    "collapsed": true
   },
   "outputs": [],
   "source": [
    "data_dir = '../input/'\n",
    "train_dir = os.path.join(data_dir, 'train')\n",
    "test_dir = os.path.join(data_dir, 'test')\n",
    "IMG_SIZE = 128"
   ]
  },
  {
   "cell_type": "code",
   "execution_count": 3,
   "metadata": {
    "_cell_guid": "3b598efd-e3e1-4c7d-9538-c8f909e6c312",
    "_uuid": "d1beab1ada8462d965c9e9954d6cbc7a3ed3103e",
    "scrolled": true
   },
   "outputs": [],
   "source": [
    "#list of categories in array format \n",
    "CATEGORIES = ['Black-grass', 'Charlock', 'Cleavers', 'Common Chickweed', 'Common wheat', 'Fat Hen', 'Loose Silky-bent',\n",
    "              'Maize', 'Scentless Mayweed', 'Shepherds Purse', 'Small-flowered Cranesbill', 'Sugar beet']\n",
    "NUM_CATEGORIES = len(CATEGORIES)\n",
    "print (NUM_CATEGORIES)"
   ]
  },
  {
   "cell_type": "code",
   "execution_count": 4,
   "metadata": {
    "_cell_guid": "10b1ad72-e7c2-4a9f-a2de-bdc8e67bc771",
    "_uuid": "4a37499662eecffba206cf6d44d0436c00cdf6f7",
    "collapsed": true
   },
   "outputs": [],
   "source": [
    "''' function that accept plant category and return array format of the vlaue , one-hot array\n",
    " am sure there's better way to do this .......'''\n",
    "\n",
    "def label_img(word_label):                       \n",
    "    if word_label == 'Black-grass': return [1,0,0,0,0,0,0,0,0,0,0,0]\n",
    "    elif word_label == 'Charlock': return [0,1,0,0,0,0,0,0,0,0,0,0]\n",
    "    elif word_label == 'Cleavers': return [0,0,1,0,0,0,0,0,0,0,0,0]\n",
    "    elif word_label == 'Common Chickweed': return [0,0,0,1,0,0,0,0,0,0,0,0]\n",
    "    elif word_label == 'Common wheat': return [0,0,0,0,1,0,0,0,0,0,0,0]\n",
    "    elif word_label == 'Fat Hen': return [0,0,0,0,0,1,0,0,0,0,0,0]\n",
    "    elif word_label == 'Loose Silky-bent': return [0,0,0,0,0,0,1,0,0,0,0,0]\n",
    "    elif word_label == 'Maize': return [0,0,0,0,0,0,0,1,0,0,0,0]\n",
    "    elif word_label == 'Scentless Mayweed': return [0,0,0,0,0,0,0,0,1,0,0,0]\n",
    "    elif word_label == 'Shepherds Purse': return [0,0,0,0,0,0,0,0,0,1,0,0]\n",
    "    elif word_label == 'Small-flowered Cranesbill': return [0,0,0,0,0,0,0,0,0,0,1,0]\n",
    "    elif word_label == 'Sugar beet': return [0,0,0,0,0,0,0,0,0,0,0,1] "
   ]
  },
  {
   "cell_type": "code",
   "execution_count": 5,
   "metadata": {
    "_cell_guid": "f5b8416e-7a60-4703-837c-37fd2cdb0aca",
    "_uuid": "abb20d6b06d91a0594bccfef61eaef197eafc973",
    "collapsed": true
   },
   "outputs": [],
   "source": [
    "\n",
    "'''function that will create train data , will go thought all the file do this \n",
    "----read the image in  grayscale mode ,resize it\n",
    "---change it to numpy arrays and  append it to dataframe train with it`s associated category '''\n",
    "\n",
    "def create_train_data():\n",
    "    train = []\n",
    "    for category_id, category in enumerate(CATEGORIES):\n",
    "        for img in tqdm(os.listdir(os.path.join(train_dir, category))):\n",
    "            label=label_img(category)\n",
    "            path=os.path.join(train_dir,category,img)\n",
    "            img=cv2.imread(path,cv2.IMREAD_GRAYSCALE)\n",
    "            img = cv2.resize(img, (IMG_SIZE,IMG_SIZE))\n",
    "            train.append([np.array(img),np.array(label)])\n",
    "    shuffle(train)\n",
    "    return train"
   ]
  },
  {
   "cell_type": "code",
   "execution_count": 6,
   "metadata": {
    "_cell_guid": "6ffc33b4-4deb-4907-9fd2-80fc4472e7e1",
    "_uuid": "c9c563a0c5430ba3e482d680c22dbfb0105731e1",
    "scrolled": true
   },
   "outputs": [],
   "source": [
    "train_data = create_train_data()"
   ]
  },
  {
   "cell_type": "code",
   "execution_count": 7,
   "metadata": {
    "_cell_guid": "e6ca8c73-743a-4489-bbba-78a5482adb0c",
    "_uuid": "e5937fcc03a8026d2203db89960a283161a98684",
    "collapsed": true
   },
   "outputs": [],
   "source": [
    "\n",
    "'''function that will create test data , will go thought  file do this \n",
    "----read the image in  grayscale mode ,resize it\n",
    "---change it to numpy arrays and  append it to dataframe test but no category here of course  '''\n",
    "\n",
    "def create_test_data():\n",
    "    test = []\n",
    "    for img in tqdm(os.listdir(test_dir)):\n",
    "        path = os.path.join(test_dir,img)\n",
    "        img_num = img\n",
    "        img = cv2.imread(path,cv2.IMREAD_GRAYSCALE)\n",
    "        img = cv2.resize(img, (IMG_SIZE,IMG_SIZE))\n",
    "        test.append([np.array(img), img_num])\n",
    "        \n",
    "    shuffle(test)\n",
    "    return test"
   ]
  },
  {
   "cell_type": "code",
   "execution_count": 8,
   "metadata": {
    "_cell_guid": "c3b32ce1-8601-4b5f-86a6-d1c4d94993d5",
    "_uuid": "eb9908cbe83e785fb569f0989bd1713f01349ccd"
   },
   "outputs": [],
   "source": [
    "test_data = create_test_data()"
   ]
  },
  {
   "cell_type": "code",
   "execution_count": 9,
   "metadata": {
    "_cell_guid": "a1c2c83a-408d-4bf4-a947-a92cc187b22b",
    "_uuid": "e36273911baf088bf396fae857074c7ac95f2f17"
   },
   "outputs": [],
   "source": [
    "import tensorflow as tf #used for machine learning applications such as neural networks\n",
    "import tflearn #modular and transparent deep learning library built on top of Tensorflow\n",
    "from tflearn.layers.conv import conv_2d, max_pool_2d \n",
    "from tflearn.layers.core import input_data, dropout, fully_connected\n",
    "from tflearn.layers.estimator import regression\n",
    "tf.reset_default_graph()\n",
    "\n",
    "convnet = input_data(shape=[None, IMG_SIZE, IMG_SIZE, 1], name='input')\n",
    "\n",
    "convnet = conv_2d(convnet, 32, 5, activation='relu')\n",
    "convnet = max_pool_2d(convnet, 5)\n",
    "\n",
    "convnet = conv_2d(convnet, 64, 5, activation='relu')\n",
    "convnet = max_pool_2d(convnet, 5)\n",
    "\n",
    "convnet = conv_2d(convnet, 32, 5, activation='relu')\n",
    "convnet = max_pool_2d(convnet, 5)\n",
    "\n",
    "convnet = conv_2d(convnet, 64, 5, activation='relu')\n",
    "convnet = max_pool_2d(convnet, 5)\n",
    "\n",
    "convnet = conv_2d(convnet, 32, 5, activation='relu')\n",
    "convnet = max_pool_2d(convnet, 5)\n",
    "\n",
    "convnet = conv_2d(convnet, 64, 5, activation='relu')\n",
    "convnet = max_pool_2d(convnet, 5)\n",
    "\n",
    "convnet = fully_connected(convnet, 1024, activation='relu')\n",
    "convnet = dropout(convnet, 0.8)\n",
    "\n",
    "convnet = fully_connected(convnet, 12, activation='softmax')\n",
    "convnet = regression(convnet, optimizer='adam', learning_rate=LR, loss='categorical_crossentropy', name='targets')\n",
    "\n",
    "model = tflearn.DNN(convnet, tensorboard_dir='log')\n",
    "\n",
    "\n",
    "\n",
    "if os.path.exists('{}.meta'.format(MODEL_NAME)):\n",
    "    model.load(MODEL_NAME)\n",
    "    print('model loaded!')\n",
    "\n",
    "train = train_data\n",
    "test = train_data\n",
    "\n",
    "X = np.array([i[0] for i in train]).reshape(-1,IMG_SIZE,IMG_SIZE,1)\n",
    "Y = [i[1] for i in train]\n",
    "\n",
    "test_x = np.array([i[0] for i in test]).reshape(-1,IMG_SIZE,IMG_SIZE,1)\n",
    "test_y = [i[1] for i in test]\n",
    "\n",
    "model.fit({'input': X}, {'targets': Y}, n_epoch=5, validation_set=({'input': test_x}, {'targets': test_y}), \n",
    "    snapshot_step=500, show_metric=True, run_id=MODEL_NAME)"
   ]
  },
  {
   "cell_type": "code",
   "execution_count": 10,
   "metadata": {
    "_cell_guid": "da103282-4011-4367-b947-dc8dc9b02d37",
    "_uuid": "65e81dd00abf2d6dd88324b86d4721e3ef0521e4"
   },
   "outputs": [],
   "source": [
    "model.save(MODEL_NAME)"
   ]
  },
  {
   "cell_type": "code",
   "execution_count": 11,
   "metadata": {
    "_cell_guid": "3c9cffd6-9740-46b4-a4b8-dd97dd4c3bc7",
    "_uuid": "b185638d2ead940493511ddcc2e307b3c28cfd9a",
    "collapsed": true
   },
   "outputs": [],
   "source": [
    "#return Indexes of the maximal elements of a array\n",
    "def label_return (model_out):\n",
    "    if np.argmax(model_out) == 0: return  'Black-grass'\n",
    "    elif np.argmax(model_out) == 1: return 'Charlock'\n",
    "    elif np.argmax(model_out) == 2: return 'Cleavers'\n",
    "    elif np.argmax(model_out) == 3: return 'Common Chickweed'\n",
    "    elif np.argmax(model_out) == 4: return 'Common wheat'\n",
    "    elif np.argmax(model_out) == 5: return 'Fat Hen'\n",
    "    elif np.argmax(model_out) == 6: return 'Loose Silky-bent'\n",
    "    elif np.argmax(model_out) == 7: return 'Maize'\n",
    "    elif np.argmax(model_out) == 8: return 'Scentless Mayweed'\n",
    "    elif np.argmax(model_out) == 9: return 'Shepherds Purse'\n",
    "    elif np.argmax(model_out) == 10: return 'Small-flowered Cranesbill'\n",
    "    elif np.argmax(model_out) == 11: return 'Sugar beet'\n",
    "    "
   ]
  },
  {
   "cell_type": "code",
   "execution_count": 16,
   "metadata": {
    "_cell_guid": "70866b22-ba31-4ea4-96be-43c24e3e76ad",
    "_uuid": "b2fd863bf2fa70338d9133ccead6d3ff7ce11c16"
   },
   "outputs": [],
   "source": [
    "import matplotlib.pyplot as plt\n",
    "\n",
    "test_data = create_test_data()\n",
    "fig=plt.figure(figsize = (18,10))\n",
    "for num,data in enumerate(test_data[:12]): \n",
    "    img_num = data[1]\n",
    "    img_data = data[0]\n",
    "    y = fig.add_subplot(3,4,num+1)\n",
    "    orig = img_data\n",
    "    data = img_data.reshape(IMG_SIZE,IMG_SIZE,1)\n",
    "    model_out = model.predict([data])[0]\n",
    "    str_label=label_return (model_out)\n",
    "    y.imshow(orig,cmap='gray',interpolation='nearest')\n",
    "    plt.title(str_label)\n",
    "    y.axes.get_xaxis().set_visible(False)\n",
    "    y.axes.get_yaxis().set_visible(False)\n",
    "plt.show()\n"
   ]
  },
  {
   "cell_type": "code",
   "execution_count": 13,
   "metadata": {
    "_cell_guid": "fa395220-117e-4505-8bfc-3b0fca42e1ef",
    "_uuid": "99f25e27a8522b13148b9cb5e2d4b4e2f1ad6d9b"
   },
   "outputs": [],
   "source": [
    "import pandas as pd\n",
    "sample_submission = pd.read_csv('../input/sample_submission.csv')\n",
    "sample_submission.head(2)"
   ]
  },
  {
   "cell_type": "code",
   "execution_count": 14,
   "metadata": {
    "_cell_guid": "ed337054-c982-4d63-95d5-12586f64f4a5",
    "_uuid": "45ce884049ce770a3d1dc963e7dc0b37c8ccdfe3"
   },
   "outputs": [],
   "source": [
    "test_data = create_test_data()\n",
    "with open('sample_submission.csv','w') as f:\n",
    "    f.write('file,species\\n')\n",
    "    for data in test_data:\n",
    "        img_num = data[1]\n",
    "        img_data = data[0]\n",
    "        orig = img_data\n",
    "        data = img_data.reshape(IMG_SIZE,IMG_SIZE,1)\n",
    "        model_out = model.predict([data])[0]\n",
    "        str_label=label_return (model_out)\n",
    "        file = img_num\n",
    "        species = str_label\n",
    "        row = file + \",\" + species + \"\\n\"\n",
    "        f.write(row)"
   ]
  },
  {
   "cell_type": "code",
   "execution_count": null,
   "metadata": {
    "_cell_guid": "9f4b43bd-98d9-4229-8892-e74f5e64dccd",
    "_uuid": "b2b3259dfcc9f5a857c7adb8a233e7574e5351b4",
    "scrolled": true
   },
   "outputs": [],
   "source": [
    "import pandas as pd\n",
    "sample_submission = pd.read_csv('sample_submission.csv')\n",
    "sample_submission.head(10)"
   ]
  },
  {
   "cell_type": "code",
   "execution_count": null,
   "metadata": {
    "_cell_guid": "daf1fd37-803e-46fa-8d05-f4351b604efb",
    "_uuid": "312cad0b8a134785c8a9d7271ea27773d82d4d9a",
    "collapsed": true
   },
   "outputs": [],
   "source": []
  }
 ],
 "metadata": {
  "kernelspec": {
   "display_name": "Python 3",
   "language": "python",
   "name": "python3"
  },
  "language_info": {
   "codemirror_mode": {
    "name": "ipython",
    "version": 3
   },
   "file_extension": ".py",
   "mimetype": "text/x-python",
   "name": "python",
   "nbconvert_exporter": "python",
   "pygments_lexer": "ipython3",
   "version": "3.6.6"
  }
 },
 "nbformat": 4,
 "nbformat_minor": 1
}
