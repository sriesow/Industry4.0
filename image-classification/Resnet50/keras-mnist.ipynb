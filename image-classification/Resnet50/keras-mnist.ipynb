{
 "cells": [
  {
   "cell_type": "code",
   "execution_count": 1,
   "metadata": {},
   "outputs": [
    {
     "name": "stderr",
     "output_type": "stream",
     "text": [
      "Using TensorFlow backend.\n"
     ]
    }
   ],
   "source": [
    "import numpy as np\n",
    "import matplotlib.pyplot as plt\n",
    "from keras import backend as K\n",
    "from keras.datasets import mnist\n",
    "from keras.utils import np_utils\n",
    "from keras.models import Model\n",
    "from keras.layers import Conv2D, Dropout, Flatten, Dense, Input\n",
    "# from vis.utils import utils\n",
    "from vis.visualization import visualize_cam"
   ]
  },
  {
   "cell_type": "code",
   "execution_count": 2,
   "metadata": {},
   "outputs": [],
   "source": [
    "#K.set_learning_phase(0)\n",
    "\n",
    "\n",
    "def create_model(data_shape):\n",
    "    inpt = Input(shape=data_shape)\n",
    "    x = Dropout(0.2, input_shape=data_shape)(inpt)\n",
    "    x = Conv2D(64, (8, 8), strides=(2, 2),\n",
    "               padding='same', activation='relu', input_shape=data_shape)(x)\n",
    "    x = Conv2D((128), (6, 6), strides=(2, 2),\n",
    "               padding='valid', activation='relu')(x)\n",
    "    x = Conv2D((128), (5, 5), strides=(1, 1),\n",
    "               padding='valid', activation='relu')(x)\n",
    "    x = Dropout(0.5)(x)\n",
    "    x = Flatten()(x)\n",
    "    x = Dense(10, activation='softmax')(x)\n",
    "    model = Model(inpt, x, name='can_model_mine')\n",
    "    model.compile(optimizer='adam', loss='categorical_crossentropy',\n",
    "                  metrics=['accuracy'])\n",
    "\n",
    "    return model"
   ]
  },
  {
   "cell_type": "code",
   "execution_count": 3,
   "metadata": {},
   "outputs": [
    {
     "name": "stdout",
     "output_type": "stream",
     "text": [
      "_________________________________________________________________\n",
      "Layer (type)                 Output Shape              Param #   \n",
      "=================================================================\n",
      "input_1 (InputLayer)         (None, 28, 28, 1)         0         \n",
      "_________________________________________________________________\n",
      "dropout_1 (Dropout)          (None, 28, 28, 1)         0         \n",
      "_________________________________________________________________\n",
      "conv2d_1 (Conv2D)            (None, 14, 14, 64)        4160      \n",
      "_________________________________________________________________\n",
      "conv2d_2 (Conv2D)            (None, 5, 5, 128)         295040    \n",
      "_________________________________________________________________\n",
      "conv2d_3 (Conv2D)            (None, 1, 1, 128)         409728    \n",
      "_________________________________________________________________\n",
      "dropout_2 (Dropout)          (None, 1, 1, 128)         0         \n",
      "_________________________________________________________________\n",
      "flatten_1 (Flatten)          (None, 128)               0         \n",
      "_________________________________________________________________\n",
      "dense_1 (Dense)              (None, 10)                1290      \n",
      "=================================================================\n",
      "Total params: 710,218\n",
      "Trainable params: 710,218\n",
      "Non-trainable params: 0\n",
      "_________________________________________________________________\n",
      "Train on 47400 samples, validate on 12600 samples\n",
      "Epoch 1/2\n",
      "47400/47400 [==============================] - 6s 121us/step - loss: 0.5533 - acc: 0.8823 - val_loss: 0.0886 - val_acc: 0.9729\n",
      "Epoch 2/2\n",
      "47400/47400 [==============================] - 3s 62us/step - loss: 0.1394 - acc: 0.9607 - val_loss: 0.0651 - val_acc: 0.9813\n"
     ]
    },
    {
     "data": {
      "text/plain": [
       "<keras.callbacks.History at 0x7f1fdc695cf8>"
      ]
     },
     "execution_count": 3,
     "metadata": {},
     "output_type": "execute_result"
    }
   ],
   "source": [
    "(trX, trY), (teX, teY) = mnist.load_data()\n",
    "trX = np.expand_dims(trX, axis=3)\n",
    "teX = np.expand_dims(teX, axis=3)\n",
    "trY = np_utils.to_categorical(trY, 10)\n",
    "teY = np_utils.to_categorical(teY, 10)\n",
    "model = create_model(trX.shape[1:])\n",
    "model.summary()\n",
    "model.fit(trX, trY, validation_split=0.21, batch_size=128, epochs=2, verbose=1)"
   ]
  },
  {
   "cell_type": "code",
   "execution_count": 38,
   "metadata": {},
   "outputs": [
    {
     "data": {
      "image/png": "[encoded data removed]",
      "text/plain": [
       "<Figure size 432x288 with 1 Axes>"
      ]
     },
     "metadata": {
      "needs_background": "light"
     },
     "output_type": "display_data"
    },
    {
     "name": "stdout",
     "output_type": "stream",
     "text": [
      "image shape = (1, 28, 28, 1)\n",
      "predicted class = 1, true class = 1\n"
     ]
    },
    {
     "data": {
      "image/png": "[encoded data removed]",
      "text/plain": [
       "<Figure size 432x288 with 3 Axes>"
      ]
     },
     "metadata": {
      "needs_background": "light"
     },
     "output_type": "display_data"
    }
   ],
   "source": [
    "# plot original image\n",
    "img_idx = np.random.randint(0, 47400)\n",
    "img = trX[img_idx]\n",
    "plt.subplot(141)\n",
    "plt.imshow(img.reshape(28, 28))\n",
    "plt.show()\n",
    "img = np.expand_dims(img, axis=0)\n",
    "print(\"image shape = {}\".format(img.shape))\n",
    "\n",
    "# predicted and true class\n",
    "pred_class = np.argmax(model.predict(img))\n",
    "#pred_class = np.argmax(trX[img_idx])\n",
    "actual_class = np.argmax(trY[img_idx])\n",
    "print(\"predicted class = {}, true class = {}\".format(pred_class,\n",
    "                                                         actual_class))\n",
    "layer_name = 'dense_1'\n",
    "layer_idx = [idx for idx, layer in enumerate(model.layers) if layer.name == layer_name][0]\n",
    "layer_idx = 7\n",
    "    \n",
    "for j,modifier in enumerate([None, 'guided', 'relu']):\n",
    "    heat_map = visualize_cam(model, layer_idx, pred_class, img, penultimate_layer_idx=3, backprop_modifier=modifier)\n",
    "    plt.subplot(1,4,j+2)\n",
    "    plt.imshow(heat_map)\n",
    "\n",
    "plt.show()\n",
    "\n",
    "#heatmap = visualize_cam(model, layer_idx, [pred_class], img)\n",
    "#print(\"heatmap = {}\".format(heatmap.shape))\n",
    "#plt.axis('off')\n",
    "#plt.imshow(heatmap.reshape(28, 28, 3))\n",
    "#plt.title('Saliency map')\n",
    "#plt.show()"
   ]
  },
  {
   "cell_type": "code",
   "execution_count": null,
   "metadata": {},
   "outputs": [],
   "source": []
  }
 ],
 "metadata": {
  "kernelspec": {
   "display_name": "Python 3",
   "language": "python",
   "name": "python3"
  },
  "language_info": {
   "codemirror_mode": {
    "name": "ipython",
    "version": 3
   },
   "file_extension": ".py",
   "mimetype": "text/x-python",
   "name": "python",
   "nbconvert_exporter": "python",
   "pygments_lexer": "ipython3",
   "version": "3.6.6"
  }
 },
 "nbformat": 4,
 "nbformat_minor": 2
}
